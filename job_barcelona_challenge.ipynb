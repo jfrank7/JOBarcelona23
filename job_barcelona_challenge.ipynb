{
 "cells": [
  {
   "cell_type": "code",
   "execution_count": 3,
   "metadata": {},
   "outputs": [],
   "source": [
    "import pandas as pd\n",
    "import sklearn"
   ]
  },
  {
   "cell_type": "code",
   "execution_count": 77,
   "metadata": {},
   "outputs": [],
   "source": [
    "df = pd.read_csv('supply_chain_train.csv')"
   ]
  },
  {
   "cell_type": "code",
   "execution_count": 78,
   "metadata": {},
   "outputs": [],
   "source": [
    "df['Marital_Status'] = df['Marital_Status'].replace('Unknown', df['Marital_Status'].mode()[0])\n",
    "df['Education_Level'] = df['Education_Level'].replace('Unknown', df['Education_Level'].mode()[0])\n",
    "df['Income_Category'] = df['Income_Category'].replace('Unknown', df['Income_Category'].mode()[0])\n",
    "dummy_df = pd.get_dummies(df[['Gender', 'Marital_Status']])\n",
    "df = pd.concat([df, dummy_df], axis=1)\n",
    "df.drop(['Gender', 'Gender_F', 'train_idx', 'CLIENTNUM', 'Marital_Status'], axis=1, inplace=True)"
   ]
  },
  {
   "cell_type": "code",
   "execution_count": 79,
   "metadata": {},
   "outputs": [],
   "source": [
    "# create a new column that represents age values as discrete bins\n",
    "df['Customer_Age'] = pd.cut(df['Customer_Age'], bins=range(0, 101, 10), right=False, labels=range(10))"
   ]
  },
  {
   "cell_type": "code",
   "execution_count": 80,
   "metadata": {},
   "outputs": [],
   "source": [
    "rankings = {'Uneducated': 1, 'High School': 2, 'College': 3, 'Graduate': 4, 'Post-Graduate': 5, 'Doctorate': 6}\n",
    "\n",
    "# create a new column that maps each category to its corresponding ranking\n",
    "df['Education_Level'] = df['Education_Level'].map(rankings)"
   ]
  },
  {
   "cell_type": "code",
   "execution_count": 81,
   "metadata": {},
   "outputs": [],
   "source": [
    "rankings = {'Less than $40K': 1, '$40K - $60K': 2, '$60K - $80K': 3, '$80K - $120K': 4, '$120K +': 5}\n",
    "\n",
    "# create a new column that maps each category to its corresponding ranking\n",
    "df['Income_Category'] = df['Income_Category'].map(rankings)\n"
   ]
  },
  {
   "cell_type": "code",
   "execution_count": 86,
   "metadata": {},
   "outputs": [],
   "source": [
    "rankings = {'Blue': 1, 'Silver': 2, 'Gold': 3, 'Platinum': 4}\n",
    "\n",
    "# create a new column that maps each category to its corresponding ranking\n",
    "df['Card_Category'] = df['Card_Category'].map(rankings)\n"
   ]
  },
  {
   "cell_type": "code",
   "execution_count": 92,
   "metadata": {},
   "outputs": [
    {
     "name": "stdout",
     "output_type": "stream",
     "text": [
      "F1 score: 0.9856115107913669\n"
     ]
    }
   ],
   "source": [
    "import numpy as np\n",
    "from sklearn.model_selection import train_test_split, GridSearchCV\n",
    "from sklearn.preprocessing import StandardScaler\n",
    "from sklearn.metrics import f1_score\n",
    "import xgboost as xgb\n",
    "\n",
    "# Load data\n",
    "data = df\n",
    "\n",
    "# Split features and target variable\n",
    "X = data.drop('Attrition_Flag', axis=1)\n",
    "y = data['Attrition_Flag']\n",
    "\n",
    "# Split numerical and categorical features\n",
    "num_features = ['Customer_Age', 'Dependent_count', 'Education_Level', 'Income_Category',\n",
    "       'Card_Category', 'Months_on_book', 'Total_Relationship_Count',\n",
    "       'Months_Inactive_12_mon', 'Contacts_Count_12_mon', 'Credit_Limit',\n",
    "       'Total_Revolving_Bal', 'Avg_Open_To_Buy', 'Total_Amt_Chng_Q4_Q1',\n",
    "       'Total_Trans_Amt', 'Total_Trans_Ct', 'Total_Ct_Chng_Q4_Q1',\n",
    "       'Avg_Utilization_Ratio']\n",
    "\n",
    "# Normalize numerical features\n",
    "scaler = StandardScaler()\n",
    "X[num_features] = scaler.fit_transform(X[num_features])\n",
    "\n",
    "# Split data into training and testing sets\n",
    "X_train, X_test, y_train, y_test = train_test_split(X, y, test_size=0.2, random_state=42)\n",
    "\n",
    "# Define hyperparameters to tune\n",
    "params = {\n",
    "    'max_depth': [3, 5, 7],\n",
    "    'learning_rate': [0.1, 0.01, 0.001],\n",
    "    'n_estimators': [50, 100, 200]\n",
    "}\n",
    "\n",
    "# Train XGBoost model with cross-validation to find best hyperparameters\n",
    "model = xgb.XGBClassifier()\n",
    "grid_search = GridSearchCV(model, params, cv=5, n_jobs=-1)\n",
    "grid_search.fit(X_train, y_train)\n",
    "\n",
    "# Evaluate model on test set using best hyperparameters\n",
    "best_model = grid_search.best_estimator_\n",
    "y_pred = best_model.predict(X_test)\n",
    "\n",
    "# Calculate F1 score\n",
    "f1 = f1_score(y_test, y_pred)\n",
    "print('F1 score:', f1)"
   ]
  }
 ],
 "metadata": {
  "kernelspec": {
   "display_name": "Python 3",
   "language": "python",
   "name": "python3"
  },
  "language_info": {
   "codemirror_mode": {
    "name": "ipython",
    "version": 3
   },
   "file_extension": ".py",
   "mimetype": "text/x-python",
   "name": "python",
   "nbconvert_exporter": "python",
   "pygments_lexer": "ipython3",
   "version": "3.9.6"
  },
  "orig_nbformat": 4
 },
 "nbformat": 4,
 "nbformat_minor": 2
}
